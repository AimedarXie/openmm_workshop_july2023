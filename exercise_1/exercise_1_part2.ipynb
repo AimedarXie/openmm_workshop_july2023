{
 "cells": [
  {
   "attachments": {},
   "cell_type": "markdown",
   "metadata": {},
   "source": [
    "# Exercise 1 - Part 2 - Protein Ligand Complex\n",
    "\n",
    "You can run this example directly in your browser: [![Open On Colab](https://colab.research.google.com/assets/colab-badge.svg)](https://colab.research.google.com/github/sef43/openmm_workshop/blob/main/exercise_1/exercise_1_part2.ipynb)\n",
    "\n",
    "\n",
    "In this exercise we will demonstrate two ways of setting up a simulation of a protein-ligand complex in OpenMM. \n",
    "\n",
    "- **Method 1**\n",
    "\n",
    "  Use the OpenMM package [openmmforcefields](https://github.com/openmm/openmmforcefields) and an external package called Open Force Field toolkit ([openff-toolkit](https://github.com/openforcefield/openff-toolkit)).\n",
    "\n",
    "  This covers the following steps:\n",
    "    - Loading in the ligand with `openff-toolkit`\n",
    "    - Parameterising the ligand force-field with `openmmforcefields`\n",
    "    - Combining the topologies\n",
    "    - Solvating and simulating\n",
    "\n",
    "  *Note this notebook is based on the [openff-toolkit's example](https://github.com/openforcefield/openff-toolkit/blob/stable/examples/toolkit_showcase/toolkit_showcase.ipynb) . We would like to give credit to the Open ForceField Authors.*\n",
    "\n",
    "- **Method 2**\n",
    "\n",
    "  Using a third party tool (BioSimSpace) to produce OpenMM compatible input files.\n",
    "\n",
    "  This covers the following steps:\n",
    "    - Using a BSS workflow to take the protein+ligand files and produce Amber format input files\n",
    "    - Use OpenMM \n",
    "\n",
    "\n",
    "## Method 1\n",
    "\n",
    "### Extra packages\n",
    "For this exercise we will need to install the additional python packages:\n",
    "\n",
    " - openmmforcefields\n",
    "   - github: https://github.com/openmm/openmmforcefields\n",
    "   - conda-forge: https://anaconda.org/conda-forge/openmmforcefields\n",
    " - openff-toolkit\n",
    "   - github: https://github.com/openforcefield/openff-toolkit\n",
    "   - conda-forge: https://anaconda.org/conda-forge/openff-toolkit\n",
    "\n",
    "Both of these will be installed if you install openmmforcefields from conda-forge.\n",
    "\n",
    "Note for apple silicon you may need to create a x86 conda environment see [here](https://github.com/openforcefield/openff-toolkit/blob/main/FAQ.md#im-having-troubles-installing-the-openff-toolkit-on-my-apple-silicon-mac).\n",
    "\n",
    "If you run into problems we recommend create a fresh conda environment and installing openmmforcefields firsts. It is easier to solve dependency issues in fresh environments."
   ]
  },
  {
   "cell_type": "code",
   "execution_count": null,
   "metadata": {},
   "outputs": [],
   "source": [
    "# Execute this cell to install mamba in the Colab environment\n",
    "\n",
    "if 'google.colab' in str(get_ipython()):\n",
    "  print('Running on colab')\n",
    "  !pip install -q condacolab\n",
    "  import condacolab\n",
    "  condacolab.install_mambaforge()\n",
    "else:\n",
    "  print('Not running on colab.')\n",
    "  print('Make sure you create and activate a new conda environment!')"
   ]
  },
  {
   "cell_type": "code",
   "execution_count": null,
   "metadata": {},
   "outputs": [],
   "source": [
    "!mamba install -y -c conda-forge openmmforcefields"
   ]
  },
  {
   "attachments": {},
   "cell_type": "markdown",
   "metadata": {},
   "source": [
    "### Imports\n",
    "\n",
    "We need to be careful with the imports here because OpenMM and OpenFF have some objects with the same names. For this reason we no longer use the wildcard imports and adopt a more typical python programming approach."
   ]
  },
  {
   "cell_type": "code",
   "execution_count": null,
   "metadata": {},
   "outputs": [],
   "source": [
    "# OpenMM imports\n",
    "import openmm.app as app\n",
    "import openmm as mm\n",
    "import openmm.unit as unit\n",
    "from sys import stdout\n",
    "\n",
    "from openmmforcefields.generators import SMIRNOFFTemplateGenerator\n",
    "\n",
    "\n",
    "# OpenFF-toolkit imports\n",
    "from openff.toolkit import Molecule\n",
    "from openff.toolkit import Topology as offTopology\n",
    "from openff.units.openmm import to_openmm as offquantity_to_openmm\n"
   ]
  },
  {
   "attachments": {},
   "cell_type": "markdown",
   "metadata": {},
   "source": [
    "### System\n",
    "\n",
    "We will use a lysozyme which is an antimicrobial protein which has been studied extensively using MD simulations in the past. We will setup a simulation of a complex of a benzene ligand and the lysozyme protein.\n",
    "\n",
    "TODO: explain how the input files have been cleaned/setup\n"
   ]
  },
  {
   "cell_type": "code",
   "execution_count": null,
   "metadata": {},
   "outputs": [],
   "source": [
    "# get the files\n",
    "!wget https://github.com/sef43/openmm_workshop/tree/main/exercise_1/benzene.sdf\n",
    "!wget https://github.com/sef43/openmm_workshop/tree/main/exercise_1/o-xylene.sdf\n",
    "!wget https://github.com/sef43/openmm_workshop/tree/main/exercise_1/lysozyme.pdb"
   ]
  },
  {
   "attachments": {},
   "cell_type": "markdown",
   "metadata": {},
   "source": [
    "\n",
    "### load in molecules\n",
    "\n",
    "The protein is a PDB file so we can load it as before. The benzene molecule is in SDF file format for which OpenMM does not have loaders, therefore we will we use OpenFF-toolkit to load it in.\n"
   ]
  },
  {
   "cell_type": "code",
   "execution_count": null,
   "metadata": {},
   "outputs": [],
   "source": [
    "protein_path = \"lysozyme.pdb\"\n",
    "ligand_path = \"benzene.sdf\"\n",
    "\n",
    "# Load a molecule from a SDF file\n",
    "ligand = Molecule.from_file(ligand_path)\n",
    "\n",
    "# Load in the protein from a PDB file\n",
    "protein_pdb = app.PDBFile(protein_path)\n"
   ]
  },
  {
   "attachments": {},
   "cell_type": "markdown",
   "metadata": {},
   "source": [
    "### Creating the ForceField\n",
    "We now need to define the forcefield to use. For the protein the residues are all standard and pregenerated templates exist in the OpenMM forcefields. For the benzene molecule we will need to generate a forcefield template for it.\n",
    "\n",
    "We can do this using the residue template generators for small molecules from the openmmforcefields package. There is a choice between the [Amber GAFF small molecule force field](http://ambermd.org/antechamber/gaff.html) or the [Open Force Field Initiative force fields](https://github.com/openforcefield/openff-forcefields).\n",
    "\n",
    "For this example we will use [OpenFF SMIRNOFF](https://docs.openforcefield.org/projects/toolkit/en/stable/users/smirnoff.html)\n"
   ]
  },
  {
   "cell_type": "code",
   "execution_count": null,
   "metadata": {},
   "outputs": [],
   "source": [
    "# Create the SMIRNOFF template generator with the default installed force field\n",
    "smirnoff = SMIRNOFFTemplateGenerator(molecules=ligand)\n",
    "\n",
    "# we can check which version of the force field is being used\n",
    "print(smirnoff.smirnoff_filename)\n",
    "\n",
    "# Create an OpenMM ForceField object with AMBER ff14SB and TIP3P \n",
    "ff = app.ForceField('amber/protein.ff14SB.xml', 'amber/tip3p_standard.xml')\n",
    "\n",
    "# add in the SMIRNOFF template generator\n",
    "ff.registerTemplateGenerator(smirnoff.generator)\n",
    "\n"
   ]
  },
  {
   "attachments": {},
   "cell_type": "markdown",
   "metadata": {},
   "source": [
    "### Combine topologies and Solvate\n",
    "\n",
    "We can convert from the OpenFF Topology to an OpenMM topology and then use the OpenMM Modeller to combine the ligand and protein into a single topology. Once combined we can solvate."
   ]
  },
  {
   "cell_type": "code",
   "execution_count": null,
   "metadata": {},
   "outputs": [],
   "source": [
    "# make an OpenMM Modeller object with the protein\n",
    "modeller = app.Modeller(protein_pdb.topology, protein_pdb.positions)\n",
    "\n",
    "\n",
    "# make an OpenFF Topology of the ligand\n",
    "ligand_off_topology = offTopology.from_molecules(molecules=[ligand])\n",
    "# convert it to an OpenMM Topology\n",
    "ligand_omm_topology = ligand_off_topology.to_openmm()\n",
    "# get the positions of the ligand\n",
    "ligand_positions = offquantity_to_openmm(ligand.conformers[0])\n",
    "\n",
    "# add the ligand to the Modeller\n",
    "modeller.add(ligand_omm_topology, ligand_positions)\n",
    "\n",
    "# solvate\n",
    "modeller.addSolvent(ff, padding=1.0*unit.nanometer, ionicStrength=0.15*unit.molar)\n"
   ]
  },
  {
   "attachments": {},
   "cell_type": "markdown",
   "metadata": {},
   "source": [
    "### Simulate"
   ]
  },
  {
   "cell_type": "code",
   "execution_count": null,
   "metadata": {},
   "outputs": [],
   "source": [
    "system = ff.createSystem(modeller.topology, nonbondedMethod=app.PME, constraints=app.HBonds)\n",
    "integrator = mm.LangevinMiddleIntegrator(300*unit.kelvin, 1/unit.picosecond, 0.002*unit.picoseconds)\n",
    "simulation = app.Simulation(modeller.topology, system, integrator)\n",
    "simulation.context.setPositions(modeller.positions)\n",
    "\n",
    "print(\"Minimizing energy...\")\n",
    "simulation.minimizeEnergy()\n",
    "\n",
    "simulation.reporters.append(app.PDBReporter('traj.pdb', 100))\n",
    "\n",
    "simulation.reporters.append(app.StateDataReporter(stdout, 100, step=True,\n",
    "        potentialEnergy=True, temperature=True, speed=True))\n",
    "\n",
    "print(\"Running simulation...\")\n",
    "simulation.step(1000)"
   ]
  },
  {
   "attachments": {},
   "cell_type": "markdown",
   "metadata": {},
   "source": [
    "## Method 2\n",
    "\n",
    "In this method we use a BioSimSpace (BSS) workflow to produce Amber input files than we can read into OpenMM\n",
    "\n",
    "### Extra packages\n",
    "For this exercise we will need to install [biosimspace from the openbiosim channel](https://anaconda.org/openbiosim/biosimspace)\n",
    "\n",
    "The conda command below tells conda to look in the `openbiosim` and `conda-forge` channels for biosimspace and gromacs which is an optional dependency we will need for certain functionality."
   ]
  },
  {
   "cell_type": "code",
   "execution_count": null,
   "metadata": {},
   "outputs": [],
   "source": [
    "!mamba install -y  -c conda-forge -c openbiosim biosimspace  gromacs"
   ]
  },
  {
   "attachments": {},
   "cell_type": "markdown",
   "metadata": {},
   "source": [
    "### Get the BSS workflow\n",
    "\n",
    "We will use a BSS workflow (also called a Node) which takes in the ligand SDF file and the protein PDB file and combines them into a protein-ligand complex solvated in a water box. A BSS node is a python script that can be run as a command line program. We will use the script in this workshop repo which is based on an [example script from biosimspace](https://github.com/michellab/BioSimSpace/blob/6a36648e1f2e95ee6de35b2e6c9ac32f201c2bc8/nodes/playground/BSSPrepNode.ipynb)"
   ]
  },
  {
   "cell_type": "code",
   "execution_count": null,
   "metadata": {},
   "outputs": [],
   "source": [
    "# get the BSS workflow\n",
    "!wget https://github.com/sef43/openmm_workshop/tree/main/exercise_1/BSSPrepNode.py"
   ]
  },
  {
   "attachments": {},
   "cell_type": "markdown",
   "metadata": {},
   "source": [
    "### Run the workflow\n",
    "\n",
    "If you run the script without any command line arguments it will print out help info."
   ]
  },
  {
   "cell_type": "code",
   "execution_count": null,
   "metadata": {},
   "outputs": [],
   "source": [
    "!python BSSPrepNode.py"
   ]
  },
  {
   "attachments": {},
   "cell_type": "markdown",
   "metadata": {},
   "source": [
    "We can then run it specifying our benzene and protein files."
   ]
  },
  {
   "cell_type": "code",
   "execution_count": null,
   "metadata": {},
   "outputs": [],
   "source": [
    "!python BSSPrepNode.py --ligand benzene.sdf --protein lysozyme.pdb"
   ]
  },
  {
   "attachments": {},
   "cell_type": "markdown",
   "metadata": {},
   "source": [
    "It will produce the files:\n",
    " - bound.prm7 - the Amber topology file for the protein-ligand complex\n",
    " - bound.rst7 - the Amber coordinate file for the protein-ligand complex\n",
    "\n",
    "it also produces free.prm7 and free.rst7 which are the Amber input files for just the ligand solvated in a water box. These would be used in thermodynamic cycle calculations to compute binding energies \n",
    "\n",
    "\n",
    "### Run with OpenMM\n",
    "\n",
    "OpenMM has the capability to load [Amber format files](http://docs.openmm.org/latest/userguide/application/02_running_sims.html#using-amber-files). `AmberPrmtopFile` can load in the topology file and `AmberInpcrdFile` can load in the coordinates. The rest of the setup is very similar to using PDB files. Note that we do not need to define a forcefield as this is included in the Amber topology file so we call `prmtop.createSystem` instead of `ff.createSystem`."
   ]
  },
  {
   "cell_type": "code",
   "execution_count": null,
   "metadata": {},
   "outputs": [],
   "source": [
    "import openmm.app as app\n",
    "import openmm as mm\n",
    "import openmm.unit as unit\n",
    "from sys import stdout\n",
    "\n",
    "prmtop = app.AmberPrmtopFile('bound.prm7')\n",
    "inpcrd = app.AmberInpcrdFile('bound.rst7')\n",
    "system = prmtop.createSystem(nonbondedMethod=app.PME, nonbondedCutoff=1*unit.nanometer,\n",
    "        constraints=app.HBonds)\n",
    "integrator = mm.LangevinMiddleIntegrator(300*unit.kelvin, 1/unit.picosecond, 0.004*unit.picoseconds)\n",
    "simulation = app.Simulation(prmtop.topology, system, integrator)\n",
    "simulation.context.setPositions(inpcrd.positions)\n",
    "simulation.minimizeEnergy()\n",
    "simulation.reporters.append(app.PDBReporter('bss_traj.pdb', 100))\n",
    "simulation.reporters.append(app.StateDataReporter(stdout, 100, step=True,\n",
    "        potentialEnergy=True, temperature=True))\n",
    "simulation.step(1000)"
   ]
  },
  {
   "attachments": {},
   "cell_type": "markdown",
   "metadata": {},
   "source": [
    "### Exercises\n",
    "- Run the setup again but use the o-xylene ligand\n",
    "- Take a look at the BSSPrepNode.py in a text editor. Can you modify it to only output the bound state?\n",
    "- Make a modified version of Method 1 to run a simulation of just the ligand in a waterbox\n"
   ]
  }
 ],
 "metadata": {
  "kernelspec": {
   "display_name": "openff",
   "language": "python",
   "name": "python3"
  },
  "language_info": {
   "codemirror_mode": {
    "name": "ipython",
    "version": 3
   },
   "file_extension": ".py",
   "mimetype": "text/x-python",
   "name": "python",
   "nbconvert_exporter": "python",
   "pygments_lexer": "ipython3",
   "version": "3.9.16"
  },
  "orig_nbformat": 4
 },
 "nbformat": 4,
 "nbformat_minor": 2
}
