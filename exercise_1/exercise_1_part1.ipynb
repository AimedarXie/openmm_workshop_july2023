{
 "cells": [
  {
   "attachments": {},
   "cell_type": "markdown",
   "metadata": {},
   "source": [
    "# Exercise 1 - Part 1 -  Protein in Water\n",
    "\n",
    "You can run this example directly in your browser: [![Open On Colab](https://colab.research.google.com/assets/colab-badge.svg)](https://colab.research.google.com/github/sef43/openmm_workshop/blob/main/exercise_1/exercise_1_part1.ipynb)\n",
    "\n",
    "\n",
    "## Introduction\n",
    "\n",
    "We will cover the following steps:\n",
    "- Setup conda environment\n",
    "- Load a PDB file into OpenMM\n",
    "- Choose the force-field\n",
    "- Solvate the protein with water and ions\n",
    "- Setup system and integrator\n",
    "- Run local minimization\n",
    "- Run NVT equilibration\n",
    "- Run NPT production molecular dynamics\n",
    "- Basic analysis\n",
    "- How to use checkpoints\n"
   ]
  },
  {
   "attachments": {},
   "cell_type": "markdown",
   "metadata": {},
   "source": [
    "## Setup\n",
    "\n",
    "If you are using Colab you can run the cell below to install mamba in the Colab environment.\n",
    "\n",
    "If you want to run on your own machine take a look at the [setup instructions](https://github.com/sef43/openmm_workshop/tree/main/setup)."
   ]
  },
  {
   "cell_type": "code",
   "execution_count": null,
   "metadata": {},
   "outputs": [],
   "source": [
    "# Execute this cell to install mamba in the Colab environment\n",
    "\n",
    "if 'google.colab' in str(get_ipython()):\n",
    "  print('Running on colab')\n",
    "  !pip install -q condacolab\n",
    "  import condacolab\n",
    "  condacolab.install_mambaforge()\n",
    "else:\n",
    "  print('Not running on colab.')\n",
    "  print('Make sure you create and activate a new conda environment!')"
   ]
  },
  {
   "attachments": {},
   "cell_type": "markdown",
   "metadata": {},
   "source": [
    "Now we can install openmm from conda-forge"
   ]
  },
  {
   "cell_type": "code",
   "execution_count": null,
   "metadata": {},
   "outputs": [],
   "source": [
    "!mamba -y -c conda-forge openmm"
   ]
  },
  {
   "attachments": {},
   "cell_type": "markdown",
   "metadata": {},
   "source": [
    "Test the installation"
   ]
  },
  {
   "cell_type": "code",
   "execution_count": null,
   "metadata": {},
   "outputs": [],
   "source": [
    "!python -m openmm.testInstallation"
   ]
  },
  {
   "attachments": {},
   "cell_type": "markdown",
   "metadata": {},
   "source": [
    "## Download the protein structure file\n",
    "\n",
    "We will download the file from the workshop github repo"
   ]
  },
  {
   "cell_type": "code",
   "execution_count": null,
   "metadata": {},
   "outputs": [],
   "source": [
    "!wget https://github.com/sef43/openmm_workshop/tree/main/exercise_1/villin.pdb"
   ]
  },
  {
   "attachments": {},
   "cell_type": "markdown",
   "metadata": {},
   "source": [
    "## Load the PDB file into OpenMM\n",
    "\n",
    "First we need to import OpenMM.\n",
    "We then then load in the PDB file/"
   ]
  },
  {
   "cell_type": "code",
   "execution_count": null,
   "metadata": {},
   "outputs": [],
   "source": [
    "from openmm.app import *\n",
    "from openmm import *\n",
    "from openmm.unit import *\n",
    "from sys import stdout\n",
    "\n",
    "# load in the pdb file\n",
    "pdb = PDBFile('villin.pdb')"
   ]
  },
  {
   "attachments": {},
   "cell_type": "markdown",
   "metadata": {},
   "source": [
    "## Define the forcefield\n",
    "\n",
    "We need to define the forcefield we want to use. We will use the Amber14 forcefield and the TIP3P-FB water model."
   ]
  },
  {
   "cell_type": "code",
   "execution_count": null,
   "metadata": {},
   "outputs": [],
   "source": [
    "\n",
    "# Specify the forcefield \n",
    "forcefield = ForceField('amber14-all.xml', 'amber14/tip3pfb.xml')\n"
   ]
  },
  {
   "attachments": {},
   "cell_type": "markdown",
   "metadata": {},
   "source": [
    "## Solvate \n",
    "\n",
    "We can use the `Modeller` class to solvate the protein in waterbox."
   ]
  },
  {
   "cell_type": "code",
   "execution_count": null,
   "metadata": {},
   "outputs": [],
   "source": [
    "\n",
    "\n",
    "# create a Modeller object\n",
    "modeller = Modeller(pdb.topology, pdb.positions)\n",
    "\n",
    "\n",
    "# Solvate the protein in a box of water\n",
    "modeller.addSolvent(forcefield, padding=1.0*nanometer)\n"
   ]
  },
  {
   "attachments": {},
   "cell_type": "markdown",
   "metadata": {},
   "source": [
    "This command creates a box that has edges at least 1nm away from the solute and fills it with water molecules. Additionally it adds in the required number of CL and Na ions to make the system charge neutral.\n",
    "\n",
    "## Setup system and Integrator\n",
    "\n",
    "We now need to combine our molecular topology and the forcefield to create a complete description of the system. This is done using the `ForceField` object’s `createSystem()` function. We then create the integrator, and combine the integrator and system to create the Simulation object. Finally we set the initial atomic positions."
   ]
  },
  {
   "cell_type": "code",
   "execution_count": null,
   "metadata": {},
   "outputs": [],
   "source": [
    "\n",
    "# Create a system. Here we define some forcefield settings such as the nonbonded method\n",
    "system = forcefield.createSystem(modeller.topology, nonbondedMethod=PME, nonbondedCutoff=1.0*nanometer, constraints=HBonds)\n",
    "\n",
    "# Define the integrator. The Langevin integrator is also a thermostat\n",
    "integrator = LangevinMiddleIntegrator(300*kelvin, 1/picosecond, 0.004*picoseconds)\n",
    "\n",
    "# Create the Simulation\n",
    "simulation = Simulation(modeller.topology, system, integrator)\n",
    "simulation.context.setPositions(modeller.positions)\n",
    "\n"
   ]
  },
  {
   "attachments": {},
   "cell_type": "markdown",
   "metadata": {},
   "source": [
    "## Local energy minimization\n",
    "\n",
    "It is a good idea to run local energy minimization at the start of a simulation because the coordinates in starting configuration file might produce very large forces."
   ]
  },
  {
   "cell_type": "code",
   "execution_count": null,
   "metadata": {},
   "outputs": [],
   "source": [
    "\n",
    "print(\"Minimizing energy\")\n",
    "simulation.minimizeEnergy()"
   ]
  },
  {
   "attachments": {},
   "cell_type": "markdown",
   "metadata": {},
   "source": [
    "## Setup reporting\n",
    "\n",
    "To get output from our simulation we can add reporters. We use `DCDReporter` to write the coordinates every 1000 timesteps to 'traj.dcd' and we use `StateDataReporter` to print the timestep, potential energy, temperature, and volume to the screen and to a file called 'md_log.txt'."
   ]
  },
  {
   "cell_type": "code",
   "execution_count": null,
   "metadata": {},
   "outputs": [],
   "source": [
    "\n",
    "\n",
    "# Write trajectory to a file called traj.dcd every 1000 steps\n",
    "simulation.reporters.append(DCDReporter('traj.dcd', 1000))\n",
    "\n",
    "# Print state information to teh screen every 1000 steps\n",
    "simulation.reporters.append(StateDataReporter(stdout, 1000, step=True,\n",
    "        potentialEnergy=True, temperature=True, volume=True))\n",
    "\n",
    "# Print the same info to a log file every 100 steps\n",
    "simulation.reporters.append(StateDataReporter('md_log.txt', 100, step=True,\n",
    "        potentialEnergy=True, temperature=True, volume=True))\n"
   ]
  },
  {
   "attachments": {},
   "cell_type": "markdown",
   "metadata": {},
   "source": [
    "## NVT equilibration\n",
    "We are using a Langevin integrator which means we are simulating in the NVT ensemble. To equilibrate the temperature we just need to run the simulation for a number of timesteps."
   ]
  },
  {
   "cell_type": "code",
   "execution_count": null,
   "metadata": {},
   "outputs": [],
   "source": [
    "\n",
    "print('Running NVT')\n",
    "simulation.step(10000)"
   ]
  },
  {
   "attachments": {},
   "cell_type": "markdown",
   "metadata": {},
   "source": [
    "## NPT production MD\n",
    "\n",
    "To run our simulation in the NPT ensemble we need to add in a barostat to control the pressure. We can use MonteCarloBarostat."
   ]
  },
  {
   "cell_type": "code",
   "execution_count": null,
   "metadata": {},
   "outputs": [],
   "source": [
    "\n",
    "system.addForce(MonteCarloBarostat(1*bar, 300*kelvin))\n",
    "\n",
    "# It is important to call the reinitialize method on the simulation \n",
    "# otherwise the modifications will not be applied.\n",
    "simulation.context.reinitialize(preserveState=True)\n",
    "\n",
    "print('Running NPT')\n",
    "simulation.step(10000)\n"
   ]
  },
  {
   "attachments": {},
   "cell_type": "markdown",
   "metadata": {},
   "source": [
    "## Analysis\n",
    "\n",
    "We can now do some basic analysis using Python. We will plot the time evolution of the potential energy, temperature, and box volume. Remember that OpenMM itself is primarily an MD engine, for in-depth analysis of your simulations you can use other python packages such as MDtraj, or MDAnalysis.\n"
   ]
  },
  {
   "cell_type": "code",
   "execution_count": null,
   "metadata": {},
   "outputs": [],
   "source": [
    "\n",
    "import numpy as np\n",
    "import matplotlib.pyplot as plt\n",
    "data = np.loadtxt('md_log.txt', delimiter=',')\n",
    "\n",
    "step = data[:,0]\n",
    "potential_energy = data[:,1]\n",
    "temperature = data[:,2]\n",
    "volume = data[:,3]\n",
    "\n",
    "plt.plot(step, potential_energy)\n",
    "plt.xlabel(\"Step\")\n",
    "plt.ylabel(\"Potential energy (kJ/mol)\")\n",
    "plt.show()\n",
    "plt.plot(step, temperature)\n",
    "plt.xlabel(\"Step\")\n",
    "plt.ylabel(\"Temperature (K)\")\n",
    "plt.show()\n",
    "plt.plot(step, volume)\n",
    "plt.xlabel(\"Step\")\n",
    "plt.ylabel(\"Volume (nm^3)\")\n",
    "plt.show()"
   ]
  },
  {
   "attachments": {},
   "cell_type": "markdown",
   "metadata": {},
   "source": [
    "## Checkpointing\n",
    "\n",
    "When you run long simulations it is useful to be able to save checkpoints. This means you can restart them in the case of a crash. Or it means you can resume them if you need to fit within the time constraints of a HPC job scheduler.\n",
    "\n",
    "To run a resume a simulation we need to have three files saved to disk that we can load in:\n",
    "1. The topology - this will be a PDB file of our solvated system. \n",
    "2. A serialized `System` -  this is an xml file that contains the forcefield settings.\n",
    "3. A checkpoint file - this is a binary file that contains the positions, velocities, and box vectors\n",
    "The first two only need to be saved once, they are constant throughout the simulation. The checkpoint needs to be \n",
    "saved after a specified number of timesteps. \n",
    "\n",
    "\n",
    "## Setup the checkpoint\n",
    "\n",
    "We will create the topology and serialized system files. And we will use `CheckpointReporter` to regularly create checkpoint files."
   ]
  },
  {
   "cell_type": "code",
   "execution_count": null,
   "metadata": {},
   "outputs": [],
   "source": [
    "\n",
    "\n",
    "# Save the toplogy as a PDB file\n",
    "with open('topology.pdb', 'w') as output:\n",
    "    PDBFile.writeFile(simulation.topology, simulation.context.getState(getPositions=True).getPositions(),output)\n",
    "\n",
    "# save a serialized version of the system. This stores the forcefield parameters\n",
    "with open('system.xml', 'w') as output:\n",
    "    output.write(XmlSerializer.serialize(system))\n",
    "\n",
    "# Setup a checkpoint reporter. This stores the positions, velocities, and box vectors.\n",
    "simulation.reporters.append(CheckpointReporter('checkpoint.chk', 1000))\n"
   ]
  },
  {
   "attachments": {},
   "cell_type": "markdown",
   "metadata": {},
   "source": [
    "## Running for a set time limit\n",
    "\n",
    "We now run for a set amount of wall clock time (30 seconds) and save checkpoint every 1000 steps"
   ]
  },
  {
   "cell_type": "code",
   "execution_count": null,
   "metadata": {},
   "outputs": [],
   "source": [
    "\n",
    "\n",
    "# run for 30 seconds\n",
    "simulation.runForClockTime(30.0*seconds)"
   ]
  },
  {
   "attachments": {},
   "cell_type": "markdown",
   "metadata": {},
   "source": [
    "## Resume from a checkpoint\n",
    "\n",
    "We now have the required files 'topology.pdb', 'system.xml', and 'checkpoint.chk'. We will need to load them in so we can resume the simulation from the last checkpoint. Note that we have to define the integrator again as well as the simulation reporters. Furthermore we have set the `append=True` flag to the DCD and StateData reporters."
   ]
  },
  {
   "cell_type": "code",
   "execution_count": null,
   "metadata": {},
   "outputs": [],
   "source": [
    "\n",
    "\n",
    "pdb = PDBFile('topology.pdb')\n",
    "\n",
    "with open('system.xml') as input:\n",
    "    system = XmlSerializer.deserialize(input.read())\n",
    "\n",
    "# Define the integrator.\n",
    "integrator = LangevinMiddleIntegrator(300*kelvin, 1/picosecond, 0.004*picoseconds)\n",
    "\n",
    "# Create the Simulation\n",
    "simulation = Simulation(pdb.topology, system, integrator)\n",
    "\n",
    "# set the positions, velocities, and box vectors from the checkpoint file\n",
    "simulation.loadCheckpoint('checkpoint.chk')\n",
    "\n",
    "# We still need to define the reporters again\n",
    "\n",
    "# Write trajectory to a file called traj.dcd every 1000 steps\n",
    "simulation.reporters.append(DCDReporter('traj.dcd', 1000, append=True))\n",
    "\n",
    "# Print state information to the screen every 1000 steps\n",
    "simulation.reporters.append(StateDataReporter(stdout, 1000, step=True,\n",
    "        potentialEnergy=True, temperature=True, volume=True))\n",
    "\n",
    "# Print the same info to a log file every 100 steps\n",
    "simulation.reporters.append(StateDataReporter('md_log.txt', 100, step=True,\n",
    "        potentialEnergy=True, temperature=True, volume=True, append=True))\n",
    "\n",
    "\n",
    "# Setup a checkpoint reporter. This stores the positions, velocities, and box vectors.\n",
    "simulation.reporters.append(CheckpointReporter('checkpoint.chk', 1000))\n",
    "\n",
    "# run for 30 seconds\n",
    "simulation.runForClockTime(30.0*seconds)\n",
    "\n"
   ]
  },
  {
   "attachments": {},
   "cell_type": "markdown",
   "metadata": {},
   "source": [
    "## Resume multiple times\n",
    "\n",
    "We can emulate doing multiple resumes, i.e. you would do this when you have to adhere to the time limits of a HPC\n",
    "job scheduler."
   ]
  },
  {
   "cell_type": "code",
   "execution_count": null,
   "metadata": {},
   "outputs": [],
   "source": [
    "\n",
    "for i in range(3):\n",
    "    print(\"Resuming from checkpoint iteration = \", i)\n",
    "\n",
    "    pdb = PDBFile('topology.pdb')\n",
    "\n",
    "    with open('system.xml') as input:\n",
    "        system = XmlSerializer.deserialize(input.read())\n",
    "\n",
    "    # Define the integrator.\n",
    "    integrator = LangevinMiddleIntegrator(300*kelvin, 1/picosecond, 0.004*picoseconds)\n",
    "\n",
    "    # Create the Simulation\n",
    "    simulation = Simulation(pdb.topology, system, integrator)\n",
    "\n",
    "    # set the positions, velocities, and box vectors from the checkpoint file\n",
    "    simulation.loadCheckpoint('checkpoint.chk')\n",
    "\n",
    "    # We still need to define the reporters again\n",
    "\n",
    "    # Write trajectory to a file called traj.dcd every 1000 steps\n",
    "    simulation.reporters.append(DCDReporter('traj.dcd', 1000, append=True))\n",
    "\n",
    "    # Print state information to the screen every 1000 steps\n",
    "    simulation.reporters.append(StateDataReporter(stdout, 1000, step=True,\n",
    "            potentialEnergy=True, temperature=True, volume=True))\n",
    "    \n",
    "    # Print the same info to a log file every 100 steps\n",
    "    simulation.reporters.append(StateDataReporter('md_log.txt', 100, step=True,\n",
    "        potentialEnergy=True, temperature=True, volume=True, append=True))\n",
    "\n",
    "    # Setup a checkpoint reporter. This stores the positions, velocities, and box vectors.\n",
    "    simulation.reporters.append(CheckpointReporter('checkpoint.chk', 1000))\n",
    "\n",
    "    \n",
    "    # run for 30 seconds\n",
    "    simulation.runForClockTime(30.0*seconds)\n"
   ]
  },
  {
   "attachments": {},
   "cell_type": "markdown",
   "metadata": {},
   "source": [
    "## Analysis"
   ]
  },
  {
   "cell_type": "code",
   "execution_count": null,
   "metadata": {},
   "outputs": [],
   "source": [
    "# we can redo the analysis on the longer trajectory\n",
    "\n",
    "data = np.loadtxt('md_log.txt', delimiter=',')\n",
    "\n",
    "step = data[:,0]\n",
    "potential_energy = data[:,1]\n",
    "temperature = data[:,2]\n",
    "volume = data[:,3]\n",
    "\n",
    "plt.plot(step, potential_energy)\n",
    "plt.xlabel(\"Step\")\n",
    "plt.ylabel(\"Potential energy (kJ/mol)\")\n",
    "plt.show()\n",
    "plt.plot(step, temperature)\n",
    "plt.xlabel(\"Step\")\n",
    "plt.ylabel(\"Temperature (K)\")\n",
    "plt.show()\n",
    "plt.plot(step, volume)\n",
    "plt.xlabel(\"Step\")\n",
    "plt.ylabel(\"Volume (nm^3)\")\n",
    "plt.show()\n",
    "\n"
   ]
  },
  {
   "attachments": {},
   "cell_type": "markdown",
   "metadata": {},
   "source": [
    "## Visualization\n",
    "\n",
    "There a variety of programs to view simulations: https://en.wikipedia.org/wiki/List_of_molecular_graphics_systems"
   ]
  }
 ],
 "metadata": {
  "kernelspec": {
   "display_name": "cookbook3",
   "language": "python",
   "name": "python3"
  },
  "language_info": {
   "codemirror_mode": {
    "name": "ipython",
    "version": 3
   },
   "file_extension": ".py",
   "mimetype": "text/x-python",
   "name": "python",
   "nbconvert_exporter": "python",
   "pygments_lexer": "ipython3",
   "version": "3.11.3"
  },
  "orig_nbformat": 4
 },
 "nbformat": 4,
 "nbformat_minor": 2
}
