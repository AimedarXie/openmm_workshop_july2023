{
 "cells": [
  {
   "attachments": {},
   "cell_type": "markdown",
   "metadata": {},
   "source": [
    "# Using Colab\n",
    "\n",
    "## Prerequisites\n",
    "You will need a Google account to use Colab.\n",
    "\n",
    "## Usage\n",
    "Each notebook will have an open in colab icon which you can click: [![Open On Colab](https://colab.research.google.com/assets/colab-badge.svg)](https://colab.research.google.com/github/sef43/openmm_workshop/blob/main/setup/colab.ipynb)\n",
    "\n",
    "By default your colab instance will be a CPU one. You can change to a GPU instance by clicking \"runtime\">\"change runtime type\" and selecting \"GPU\" from the \"Hardware accelerator\" dropdown menu.\n",
    "\n",
    "## To use conda commands in Colab you will need to run this code block first."
   ]
  },
  {
   "cell_type": "code",
   "execution_count": null,
   "metadata": {},
   "outputs": [],
   "source": [
    "# Execute this cell to install mamba in the Colab environment\n",
    "\n",
    "if 'google.colab' in str(get_ipython()):\n",
    "  print('Running on colab')\n",
    "  !pip install -q condacolab\n",
    "  import condacolab\n",
    "  condacolab.install_mambaforge()\n",
    "else:\n",
    "  print('Not running on colab.')\n",
    "  print('Make sure you create and activate a new conda environment!')"
   ]
  },
  {
   "attachments": {},
   "cell_type": "markdown",
   "metadata": {},
   "source": [
    "This will install `mamba` in Colab. It will restart the kernel. This will make Colab give you an error message saying \"Your session crashed for an unknown reason. \" This is normal and you can ignore it.\n",
    "\n",
    "\n",
    "## mamba vs conda\n",
    "\n",
    "mamba is a drop in replacement for conda and is significantly faster at solving environments and installing the packages.\n",
    "\n",
    "\n",
    "## Install OpenMM "
   ]
  },
  {
   "cell_type": "code",
   "execution_count": null,
   "metadata": {},
   "outputs": [],
   "source": [
    "# install openmm in the current active conda environment\n",
    "!mamba install -y -c conda-forge openmm"
   ]
  },
  {
   "attachments": {},
   "cell_type": "markdown",
   "metadata": {},
   "source": [
    "## Test the installation\n",
    "\n",
    "OpenMM provides a test utility that checks which platforms are available and if they work correctly.\n",
    "The output should look similar to this:\n",
    "\n",
    "```\n",
    "OpenMM Version: 8.0\n",
    "Git Revision: a7800059645f4471f4b91c21e742fe5aa4513cda\n",
    "\n",
    "There are 2 Platforms available:\n",
    "\n",
    "1 Reference - Successfully computed forces\n",
    "2 CPU - Successfully computed forces\n",
    "\n",
    "Median difference in forces between platforms:\n",
    "\n",
    "Reference vs. CPU: 6.31117e-06\n",
    "\n",
    "All differences are within tolerance.\n",
    "```\n"
   ]
  },
  {
   "cell_type": "code",
   "execution_count": null,
   "metadata": {},
   "outputs": [],
   "source": [
    "# test openmm\n",
    "!python -m openmm.testInstallation"
   ]
  }
 ],
 "metadata": {
  "language_info": {
   "name": "python"
  },
  "orig_nbformat": 4
 },
 "nbformat": 4,
 "nbformat_minor": 2
}
