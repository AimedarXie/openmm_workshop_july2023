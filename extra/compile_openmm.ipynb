{
  "cells": [
    {
      "attachments": {},
      "cell_type": "markdown",
      "metadata": {
        "id": "XRNaTJ_zfULZ"
      },
      "source": [
        "## Building OpenMM from source\n",
        "This notebook makes extensive use of shell commands. It is designed for use in colab. If you are running on your own machine it will be simpler to run directly in terminal."
      ]
    },
    {
      "cell_type": "code",
      "execution_count": null,
      "metadata": {
        "colab": {
          "base_uri": "https://localhost:8080/"
        },
        "id": "-cikNllCbvsg",
        "outputId": "e9b0aa61-a3c8-47f6-aa20-4aa1f18f7637"
      },
      "outputs": [],
      "source": [
        "# Execute this cell to install mamba in the Colab environment\n",
        "\n",
        "if 'google.colab' in str(get_ipython()):\n",
        "  print('Running on colab')\n",
        "  !pip install -q condacolab\n",
        "  import condacolab\n",
        "  condacolab.install_mambaforge()\n",
        "else:\n",
        "  print('Not running on colab')\n",
        "  print('Make sure you create and activate a new conda environment')\n",
        "\n"
      ]
    },
    {
      "attachments": {},
      "cell_type": "markdown",
      "metadata": {},
      "source": [
        "## Install the OpenMM dependencies from conda-forge\n",
        "- Replace mamba with conda if you do have mamba installed.\n",
        "- Remove `cudatoolkit` if you do not have a GPU or you are on MacOS."
      ]
    },
    {
      "cell_type": "code",
      "execution_count": null,
      "metadata": {
        "colab": {
          "base_uri": "https://localhost:8080/"
        },
        "id": "Q9tQy225cLoc",
        "outputId": "fde40fdf-69ad-4af9-dfa9-677bbf79377c"
      },
      "outputs": [],
      "source": [
        "\n",
        "!mamba install -y -c conda-forge cython swig doxygen cudatoolkit cmake numpy pytest"
      ]
    },
    {
      "attachments": {},
      "cell_type": "markdown",
      "metadata": {},
      "source": [
        "## Get the OpenMM source code"
      ]
    },
    {
      "cell_type": "code",
      "execution_count": null,
      "metadata": {
        "colab": {
          "base_uri": "https://localhost:8080/"
        },
        "id": "K1oJFs5red2I",
        "outputId": "97d1f0bf-787a-4593-b487-b7bd457fc4f2"
      },
      "outputs": [],
      "source": [
        "\n",
        "!git clone https://github.com/openmm/openmm.git"
      ]
    },
    {
      "cell_type": "code",
      "execution_count": null,
      "metadata": {
        "id": "jll45ZTefPiO"
      },
      "outputs": [],
      "source": [
        "# make build folder\n",
        "!mkdir openmm/build"
      ]
    },
    {
      "cell_type": "code",
      "execution_count": null,
      "metadata": {
        "colab": {
          "base_uri": "https://localhost:8080/"
        },
        "id": "pIHeuFsffymk",
        "outputId": "189354bb-72f4-4784-811a-e8f1831c6afb"
      },
      "outputs": [],
      "source": [
        "# change to build folder\n",
        "%cd openmm/build\n",
        "!pwd"
      ]
    },
    {
      "attachments": {},
      "cell_type": "markdown",
      "metadata": {},
      "source": [
        "## Configure with cmake.\n",
        "\n",
        "On your own machine in terminal you can call `ccmake ..`  (note the extra c ) to open a graphical interface to see and modify the cmake options."
      ]
    },
    {
      "cell_type": "code",
      "execution_count": null,
      "metadata": {
        "colab": {
          "base_uri": "https://localhost:8080/"
        },
        "id": "wxvcI4IahQr4",
        "outputId": "e642a7ba-4891-47fb-9e9a-98926e6c17d5"
      },
      "outputs": [],
      "source": [
        "# configure with cmake\n",
        "!cmake .. -DCMAKE_INSTALL_PREFIX=../"
      ]
    },
    {
      "attachments": {},
      "cell_type": "markdown",
      "metadata": {},
      "source": [
        "## Build with make\n",
        "\n",
        "The `make` command is used to compile the code. This step might take a while. You can use the `-j<n>` flag to tell make to use multiple cores. e.g. `make -j8` uses 8 cores for the build process."
      ]
    },
    {
      "cell_type": "code",
      "execution_count": null,
      "metadata": {
        "colab": {
          "base_uri": "https://localhost:8080/"
        },
        "id": "0HYcMk9ChhZm",
        "outputId": "18149f2f-0763-421d-d101-040db62a1634"
      },
      "outputs": [],
      "source": [
        "!make"
      ]
    },
    {
      "attachments": {},
      "cell_type": "markdown",
      "metadata": {},
      "source": [
        "## Install\n",
        "The make install step copies the built code to the location specified by `-DCMAKE_INSTALL_PREFIX` used with `cmake` previously "
      ]
    },
    {
      "cell_type": "code",
      "execution_count": null,
      "metadata": {
        "colab": {
          "base_uri": "https://localhost:8080/"
        },
        "id": "Bcd94KOorh9v",
        "outputId": "7007a16b-2942-487f-f1d0-3b5d2e1212e3"
      },
      "outputs": [],
      "source": [
        "!make install"
      ]
    },
    {
      "attachments": {},
      "cell_type": "markdown",
      "metadata": {},
      "source": [
        "## Build and install the Python API"
      ]
    },
    {
      "cell_type": "code",
      "execution_count": null,
      "metadata": {
        "colab": {
          "base_uri": "https://localhost:8080/"
        },
        "id": "3fkJmvQQr6MN",
        "outputId": "3333d3b9-0830-4e72-e76f-618b1a68592f"
      },
      "outputs": [],
      "source": [
        "!make PythonInstall"
      ]
    },
    {
      "attachments": {},
      "cell_type": "markdown",
      "metadata": {},
      "source": [
        "## Testing"
      ]
    },
    {
      "cell_type": "code",
      "execution_count": null,
      "metadata": {
        "colab": {
          "base_uri": "https://localhost:8080/"
        },
        "id": "baab_gVEtQqK",
        "outputId": "457bce94-ab95-4241-cdb5-69a61c16e0f2"
      },
      "outputs": [],
      "source": [
        "!python -m openmm.testInstallation"
      ]
    },
    {
      "cell_type": "code",
      "execution_count": null,
      "metadata": {},
      "outputs": [],
      "source": [
        "!make test"
      ]
    },
    {
      "cell_type": "code",
      "execution_count": null,
      "metadata": {},
      "outputs": [],
      "source": [
        "%cd python/tests"
      ]
    },
    {
      "cell_type": "code",
      "execution_count": null,
      "metadata": {},
      "outputs": [
        {
          "ename": "",
          "evalue": "",
          "output_type": "error",
          "traceback": [
            "\u001b[1;31mThe Kernel crashed while executing code in the the current cell or a previous cell. Please review the code in the cell(s) to identify a possible cause of the failure. Click <a href='https://aka.ms/vscodeJupyterKernelCrash'>here</a> for more info. View Jupyter <a href='command:jupyter.viewOutput'>log</a> for further details."
          ]
        }
      ],
      "source": [
        "!pytest -v"
      ]
    }
  ],
  "metadata": {
    "accelerator": "GPU",
    "colab": {
      "gpuType": "T4",
      "provenance": []
    },
    "kernelspec": {
      "display_name": "Python 3",
      "name": "python3"
    },
    "language_info": {
      "codemirror_mode": {
        "name": "ipython",
        "version": 3
      },
      "file_extension": ".py",
      "mimetype": "text/x-python",
      "name": "python",
      "nbconvert_exporter": "python",
      "pygments_lexer": "ipython3",
      "version": "3.11.3"
    }
  },
  "nbformat": 4,
  "nbformat_minor": 0
}
